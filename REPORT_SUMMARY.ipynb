{
 "cells": [
  {
   "cell_type": "code",
   "execution_count": null,
   "id": "dca8f976",
   "metadata": {
    "tags": [
     "parameters"
    ]
   },
   "outputs": [],
   "source": [
    "flex_title = \"SUMMARY\"\n"
   ]
  },
  {
   "cell_type": "markdown",
   "id": "b2887ee6",
   "metadata": {
    "tags": [
     "sidebar"
    ]
   },
   "source": [
    "# Sidebar\n"
   ]
  },
  {
   "cell_type": "markdown",
   "id": "707cf870",
   "metadata": {},
   "source": [
    "###  \n"
   ]
  },
  {
   "cell_type": "code",
   "execution_count": null,
   "id": "c6ddcb98",
   "metadata": {
    "tags": [
     "source"
    ]
   },
   "outputs": [],
   "source": [
    "from IPython.display import SVG, display\n",
    "\n",
    "import os\n",
    "folder = './'\n",
    "os.chdir(folder)\n",
    "\n"
   ]
  },
  {
   "cell_type": "code",
   "execution_count": null,
   "id": "398f1650",
   "metadata": {
    "tags": [
     "body"
    ]
   },
   "outputs": [],
   "source": [
    "from PIL import Image\n",
    "Image.open('pict.png').convert(\"RGB\")\n",
    "\n"
   ]
  },
  {
   "cell_type": "markdown",
   "id": "2c08e456",
   "metadata": {
    "tags": [
     "body"
    ]
   },
   "source": [
    "Ratio = $\\sum{A_{i,t}}{i}$\n"
   ]
  },
  {
   "cell_type": "markdown",
   "id": "dee081e4",
   "metadata": {},
   "source": [
    "# Page 1\n"
   ]
  },
  {
   "cell_type": "markdown",
   "id": "f0c66d01",
   "metadata": {},
   "source": [
    "## Col1\n"
   ]
  },
  {
   "cell_type": "markdown",
   "id": "797b6e41",
   "metadata": {},
   "source": [
    "### Simple scatter\n"
   ]
  },
  {
   "cell_type": "code",
   "execution_count": null,
   "id": "e7685c71",
   "metadata": {
    "tags": [
     "source"
    ]
   },
   "outputs": [],
   "source": [
    "import plotly.express as px\n",
    "df = px.data.gapminder().query(\"year == 2007\").query(\"continent == 'Europe'\")\n",
    "df.loc[df['pop'] < 2.e6, 'country'] = 'Other countries' # Represent only large countries\n",
    "fig1 = px.pie(df, values='pop', names='country', title='Population of European continent')\n",
    "\n"
   ]
  },
  {
   "cell_type": "code",
   "execution_count": null,
   "id": "706614db",
   "metadata": {
    "tags": [
     "body"
    ]
   },
   "outputs": [],
   "source": [
    "fig1.show()\n"
   ]
  },
  {
   "cell_type": "code",
   "execution_count": null,
   "id": "a0c6869d",
   "metadata": {
    "tags": [
     "source"
    ]
   },
   "outputs": [],
   "source": [
    "import plotly.graph_objects as go\n",
    "fig2 = go.Figure(\n",
    "    data=[go.Bar(y=[2, 1, 3])],\n",
    "    layout_title_text=\"A Figure Displayed with fig.show()\"\n",
    ")\n",
    "\n"
   ]
  },
  {
   "cell_type": "markdown",
   "id": "99abd8bc",
   "metadata": {},
   "source": [
    "## Col2\n"
   ]
  },
  {
   "cell_type": "markdown",
   "id": "6f424241",
   "metadata": {},
   "source": [
    "### Simple scatter2\n"
   ]
  },
  {
   "cell_type": "code",
   "execution_count": null,
   "id": "9ba52566",
   "metadata": {
    "tags": [
     "source"
    ]
   },
   "outputs": [],
   "source": [
    "\n"
   ]
  },
  {
   "cell_type": "code",
   "execution_count": null,
   "id": "511e6807",
   "metadata": {
    "tags": [
     "body"
    ]
   },
   "outputs": [],
   "source": [
    "fig2.show()\n"
   ]
  },
  {
   "cell_type": "markdown",
   "id": "de5b469c",
   "metadata": {},
   "source": [
    "# page 2\n"
   ]
  },
  {
   "cell_type": "markdown",
   "id": "31225450",
   "metadata": {
    "tags": [
     "tabs"
    ]
   },
   "source": [
    "## Col1\n"
   ]
  },
  {
   "cell_type": "code",
   "execution_count": null,
   "id": "2d0162f0",
   "metadata": {
    "tags": [
     "source"
    ]
   },
   "outputs": [],
   "source": [
    "\n"
   ]
  },
  {
   "cell_type": "markdown",
   "id": "110fdb10",
   "metadata": {},
   "source": [
    "### tab 1\n"
   ]
  },
  {
   "cell_type": "code",
   "execution_count": null,
   "id": "fcd50194",
   "metadata": {
    "tags": [
     "body"
    ]
   },
   "outputs": [],
   "source": [
    "fig2.show()\n"
   ]
  },
  {
   "cell_type": "markdown",
   "id": "d13c130b",
   "metadata": {},
   "source": [
    "### tab2\n"
   ]
  },
  {
   "cell_type": "code",
   "execution_count": null,
   "id": "1b520ece",
   "metadata": {
    "tags": [
     "body"
    ]
   },
   "outputs": [],
   "source": [
    "fig1.show()\n"
   ]
  },
  {
   "cell_type": "markdown",
   "id": "e570f731",
   "metadata": {},
   "source": [
    "### tab3\n"
   ]
  },
  {
   "cell_type": "code",
   "execution_count": null,
   "id": "5246263a",
   "metadata": {
    "tags": [
     "body"
    ]
   },
   "outputs": [],
   "source": [
    "import pandas as pd\n",
    "import panel as pn\n",
    "\n",
    "pn.extension()\n",
    "\n",
    "df = pd.DataFrame({'int': [1, 2, 3], 'float': [3.14, 6.28, 9.42], 'str': ['A', 'B', 'C'], 'bool': [True, False, True]}, index=[1, 2, 3])\n",
    "\n",
    "df_widget = pn.widgets.DataFrame(df, name='DataFrame')\n",
    "\n",
    "#df_widget.show()\n",
    "#pn.serve(df_widget)\n",
    "\n",
    "\n",
    "df = pd._testing.makeMixedDataFrame()\n",
    "\n",
    "df_pane = pn.pane.DataFrame(df, width=400)\n",
    "\n",
    "df_pane\n",
    "\n",
    "\n"
   ]
  }
 ],
 "metadata": {},
 "nbformat": 4,
 "nbformat_minor": 5
}
