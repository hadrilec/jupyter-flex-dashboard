{
 "cells": [
  {
   "cell_type": "code",
   "execution_count": null,
   "id": "78392c44",
   "metadata": {
    "tags": [
     "parameters"
    ]
   },
   "outputs": [],
   "source": [
    "flex_title = \"SUMMARY\"\n"
   ]
  },
  {
   "cell_type": "markdown",
   "id": "0acb1122",
   "metadata": {
    "tags": [
     "sidebar"
    ]
   },
   "source": [
    "# Sidebar\n"
   ]
  },
  {
   "cell_type": "markdown",
   "id": "ff2d91ce",
   "metadata": {},
   "source": [
    "###  \n"
   ]
  },
  {
   "cell_type": "code",
   "execution_count": null,
   "id": "27809b97",
   "metadata": {
    "tags": [
     "source"
    ]
   },
   "outputs": [],
   "source": [
    "from IPython.display import SVG, display\n",
    "\n",
    "import os\n",
    "folder = './'\n",
    "os.chdir(folder)\n",
    "\n"
   ]
  },
  {
   "cell_type": "markdown",
   "id": "52682091",
   "metadata": {
    "tags": [
     "body"
    ]
   },
   "source": [
    "[![](pict.png)](https://www.wikipedia.org/)\n",
    "\n",
    "![](pict.png)\n"
   ]
  },
  {
   "cell_type": "markdown",
   "id": "e0d8deec",
   "metadata": {
    "tags": [
     "body"
    ]
   },
   "source": [
    "Ratio = $\\sum{A_{i,t}}{i}$\n"
   ]
  },
  {
   "cell_type": "markdown",
   "id": "1f8b8f5c",
   "metadata": {},
   "source": [
    "# Page 1\n"
   ]
  },
  {
   "cell_type": "markdown",
   "id": "a2d7e26b",
   "metadata": {},
   "source": [
    "## Col1\n"
   ]
  },
  {
   "cell_type": "markdown",
   "id": "3d5d8c19",
   "metadata": {},
   "source": [
    "### Simple scatter\n"
   ]
  },
  {
   "cell_type": "code",
   "execution_count": null,
   "id": "971d23ba",
   "metadata": {
    "tags": [
     "source"
    ]
   },
   "outputs": [],
   "source": [
    "import plotly.express as px\n",
    "df = px.data.gapminder().query(\"year == 2007\").query(\"continent == 'Europe'\")\n",
    "df.loc[df['pop'] < 2.e6, 'country'] = 'Other countries' # Represent only large countries\n",
    "fig1 = px.pie(df, values='pop', names='country', title='Population of European continent')\n",
    "\n"
   ]
  },
  {
   "cell_type": "code",
   "execution_count": null,
   "id": "b25fb380",
   "metadata": {
    "tags": [
     "body"
    ]
   },
   "outputs": [],
   "source": [
    "fig1.show()\n"
   ]
  },
  {
   "cell_type": "code",
   "execution_count": null,
   "id": "74244a2c",
   "metadata": {
    "tags": [
     "source"
    ]
   },
   "outputs": [],
   "source": [
    "import plotly.graph_objects as go\n",
    "fig2 = go.Figure(\n",
    "    data=[go.Bar(y=[2, 1, 3])],\n",
    "    layout_title_text=\"A Figure Displayed with fig.show()\"\n",
    ")\n",
    "\n"
   ]
  },
  {
   "cell_type": "markdown",
   "id": "c220a003",
   "metadata": {},
   "source": [
    "## Col2\n"
   ]
  },
  {
   "cell_type": "markdown",
   "id": "2090b2e6",
   "metadata": {},
   "source": [
    "### Simple scatter2\n"
   ]
  },
  {
   "cell_type": "code",
   "execution_count": null,
   "id": "6be0fd79",
   "metadata": {
    "tags": [
     "source"
    ]
   },
   "outputs": [],
   "source": [
    "\n"
   ]
  },
  {
   "cell_type": "code",
   "execution_count": null,
   "id": "d0549c60",
   "metadata": {
    "tags": [
     "body"
    ]
   },
   "outputs": [],
   "source": [
    "fig2.show()\n"
   ]
  },
  {
   "cell_type": "markdown",
   "id": "6dd41aa2",
   "metadata": {},
   "source": [
    "# page 2\n"
   ]
  },
  {
   "cell_type": "markdown",
   "id": "e93a6b95",
   "metadata": {
    "tags": [
     "tabs"
    ]
   },
   "source": [
    "## Col1\n"
   ]
  },
  {
   "cell_type": "code",
   "execution_count": null,
   "id": "17a8aa95",
   "metadata": {
    "tags": [
     "source"
    ]
   },
   "outputs": [],
   "source": [
    "\n"
   ]
  },
  {
   "cell_type": "markdown",
   "id": "5ccda800",
   "metadata": {},
   "source": [
    "### tab 1\n"
   ]
  },
  {
   "cell_type": "code",
   "execution_count": null,
   "id": "db655ce1",
   "metadata": {
    "tags": [
     "body"
    ]
   },
   "outputs": [],
   "source": [
    "fig2.show()\n"
   ]
  },
  {
   "cell_type": "markdown",
   "id": "49f84002",
   "metadata": {},
   "source": [
    "### tab2\n"
   ]
  },
  {
   "cell_type": "code",
   "execution_count": null,
   "id": "f59418c8",
   "metadata": {
    "tags": [
     "body"
    ]
   },
   "outputs": [],
   "source": [
    "fig1.show()\n"
   ]
  }
 ],
 "metadata": {},
 "nbformat": 4,
 "nbformat_minor": 5
}
