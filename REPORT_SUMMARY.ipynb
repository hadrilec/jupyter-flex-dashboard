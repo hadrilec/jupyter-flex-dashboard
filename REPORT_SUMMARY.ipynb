{
 "cells": [
  {
   "cell_type": "code",
   "execution_count": null,
   "id": "90316749",
   "metadata": {
    "tags": [
     "parameters"
    ]
   },
   "outputs": [],
   "source": [
    "flex_title = \"SUMMARY\"\n"
   ]
  },
  {
   "cell_type": "markdown",
   "id": "a98d7684",
   "metadata": {
    "tags": [
     "sidebar"
    ]
   },
   "source": [
    "# Sidebar\n"
   ]
  },
  {
   "cell_type": "markdown",
   "id": "12feb9cd",
   "metadata": {},
   "source": [
    "###  \n"
   ]
  },
  {
   "cell_type": "code",
   "execution_count": null,
   "id": "0da2d25c",
   "metadata": {
    "tags": [
     "source"
    ]
   },
   "outputs": [],
   "source": [
    "from IPython.display import SVG, display\n",
    "\n",
    "import os\n",
    "folder = './'\n",
    "os.chdir(folder)\n",
    "\n"
   ]
  },
  {
   "cell_type": "markdown",
   "id": "01e6cb0a",
   "metadata": {
    "tags": [
     "body"
    ]
   },
   "source": [
    "[![](pict.png)](https://www.wikipedia.org/)\n",
    "\n"
   ]
  },
  {
   "cell_type": "markdown",
   "id": "ef5f41d4",
   "metadata": {
    "tags": [
     "body"
    ]
   },
   "source": [
    "Ratio = $\\sum{A_{i,t}}{i}$\n"
   ]
  },
  {
   "cell_type": "markdown",
   "id": "12d4d8ed",
   "metadata": {},
   "source": [
    "# Page 1\n"
   ]
  },
  {
   "cell_type": "markdown",
   "id": "5a1d6923",
   "metadata": {},
   "source": [
    "## Col1\n"
   ]
  },
  {
   "cell_type": "markdown",
   "id": "d57d8236",
   "metadata": {},
   "source": [
    "### Simple scatter\n"
   ]
  },
  {
   "cell_type": "code",
   "execution_count": null,
   "id": "4c6a945a",
   "metadata": {
    "tags": [
     "source"
    ]
   },
   "outputs": [],
   "source": [
    "import plotly.express as px\n",
    "df = px.data.gapminder().query(\"year == 2007\").query(\"continent == 'Europe'\")\n",
    "df.loc[df['pop'] < 2.e6, 'country'] = 'Other countries' # Represent only large countries\n",
    "fig1 = px.pie(df, values='pop', names='country', title='Population of European continent')\n",
    "\n"
   ]
  },
  {
   "cell_type": "code",
   "execution_count": null,
   "id": "6433f5a1",
   "metadata": {
    "tags": [
     "body"
    ]
   },
   "outputs": [],
   "source": [
    "fig1.show()\n"
   ]
  },
  {
   "cell_type": "code",
   "execution_count": null,
   "id": "c93bc484",
   "metadata": {
    "tags": [
     "source"
    ]
   },
   "outputs": [],
   "source": [
    "import plotly.graph_objects as go\n",
    "fig2 = go.Figure(\n",
    "    data=[go.Bar(y=[2, 1, 3])],\n",
    "    layout_title_text=\"A Figure Displayed with fig.show()\"\n",
    ")\n",
    "\n"
   ]
  },
  {
   "cell_type": "markdown",
   "id": "649701e2",
   "metadata": {},
   "source": [
    "## Col2\n"
   ]
  },
  {
   "cell_type": "markdown",
   "id": "8654a8de",
   "metadata": {},
   "source": [
    "### Simple scatter2\n"
   ]
  },
  {
   "cell_type": "code",
   "execution_count": null,
   "id": "ec910472",
   "metadata": {
    "tags": [
     "source"
    ]
   },
   "outputs": [],
   "source": [
    "\n"
   ]
  },
  {
   "cell_type": "code",
   "execution_count": null,
   "id": "ed1da2b2",
   "metadata": {
    "tags": [
     "body"
    ]
   },
   "outputs": [],
   "source": [
    "fig2.show()\n"
   ]
  },
  {
   "cell_type": "markdown",
   "id": "f95342ca",
   "metadata": {},
   "source": [
    "# page 2\n"
   ]
  },
  {
   "cell_type": "markdown",
   "id": "9c0212a2",
   "metadata": {
    "tags": [
     "tabs"
    ]
   },
   "source": [
    "## Col1\n"
   ]
  },
  {
   "cell_type": "code",
   "execution_count": null,
   "id": "49af6c89",
   "metadata": {
    "tags": [
     "source"
    ]
   },
   "outputs": [],
   "source": [
    "\n"
   ]
  },
  {
   "cell_type": "markdown",
   "id": "fbc6784a",
   "metadata": {},
   "source": [
    "### tab 1\n"
   ]
  },
  {
   "cell_type": "code",
   "execution_count": null,
   "id": "62e61947",
   "metadata": {
    "tags": [
     "body"
    ]
   },
   "outputs": [],
   "source": [
    "fig2.show()\n"
   ]
  },
  {
   "cell_type": "markdown",
   "id": "63713ecb",
   "metadata": {},
   "source": [
    "### tab2\n"
   ]
  },
  {
   "cell_type": "code",
   "execution_count": null,
   "id": "521fb2aa",
   "metadata": {
    "tags": [
     "body"
    ]
   },
   "outputs": [],
   "source": [
    "fig1.show()\n"
   ]
  }
 ],
 "metadata": {},
 "nbformat": 4,
 "nbformat_minor": 5
}
